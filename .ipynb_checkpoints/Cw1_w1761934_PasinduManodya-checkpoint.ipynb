{
 "cells": [
  {
   "cell_type": "markdown",
   "id": "c191a57a-4272-4ea3-bfcf-cc840e4bd61d",
   "metadata": {},
   "source": [
    "**PART A - APPLICATION REVIEW**"
   ]
  },
  {
   "cell_type": "markdown",
   "id": "84f53cd5-708e-47ac-99aa-9a5af4f10413",
   "metadata": {},
   "source": [
    "Artificial intelligence is a field which belongs to the computer science and engineering region. It involves in the growth and development of computer machines which specialize in the area of testing whether machines can perform tasks that normally require human intelligence. AI can be used in areas like speech and face recognition, translating languages, decision making etc. AI can also be used in technologies and techniques like machine learning, NLP (Natural Language Processing), deep learning, computer vision and is very useful in robotics-related areas as well. \n",
    "\n",
    "In this modern era rather than calling someone directly it is widely regarded to send them a SMS or an email for the convenience of both parties. Since this started receiving emails and messages have become an permanent part of our day to day life. With the increase of sending emails and messages sending spam emails and messages has also increased over the years. A spam email or a message is an unsolicited email that is sent to a large audience at once. These are mainly used for advertising or delivering not-so-useful information. But the main problem with spam emails is that they can be used as a weapon as well. When it comes to spam emails and messages they can be used as an efficient way to disrupt businesses and companies by sending spam emails that contains phishing emails for scams or email which contains malware. These kinds of spam emails and messages will have a great cause of financial and other kinds of disruptions on your company or your business. By accessing those spam emails the user is facing a possible loss of sensitive information, and data and worst-case scenario they can be held for ransom if the business gets a ransomware through one of these spam messages. \n",
    "\n",
    "Since these spam email attacks have gone through the roof for the past few decades the need of stopping these from reaching employees was a huge need. That is how artificial intelligence enters into the field of email and spam filtering domain. When it comes to filtering spam and non-spam emails one of the most popular approaches is to use machine learning algorithms to train machine learning models on a dataset that is labelled with spam and non-spam emails. Furthermore, we can develop machine learning algorithms to be able to recognize and predict the sender’s address patterns, subject, and body as well. After training the machine learning algorithm will be able to learn the patterns and it will be able to classify the emails as spam and non-spam emails. MultinomialNB, Logistic regression, SVM, and K-NN algorithms can be taken as supervised learning algorithms for this problem domain with good results. \n",
    "\n",
    "Another way of approaching the spam detection domain is using Natural Language Processing (NLP) techniques and technologies to overcome this issue. This natural language processing approach is used to analyze and identify the contents of emails and recognize patterns, keywords, or special symbols that are commonly related to spam emails. This can contain analyzing and recognizing the subject of the email, the body of the email, and also the detection of suspicious keywords or phrases commonly used in spam messages. Using NLP techniques, the algorithms can be used to extract useful information from the messages like the sender, recipient, and the body of the message. As a plus mark in using NLP techniques is that these NLP algorithms can be used to recognize the sentiment of the email which can be helpful when it comes to detecting phishing emails or emails that might contain malware or suspicious content.\n",
    "\n",
    "Unsupervised learning machine learning techniques can also be used in the email and spam filtering domain. When it comes to unsupervised learning there is no need to provide labelled data to the machine learning model as we did in the supervised learning techniques. In unsupervised learning techniques, there is no need to provide labelled data to the machine learning model. What happens is the model is provided with a set of unlabelled data and the machine learning model use clustering algorithms to identify patterns on their own. This can become possible by the use of keywords, special symbols that is related to this particular area, and the structure of the email as well. Using clustering algorithms to group similar emails is one common example in this area. Using anomaly detection algorithms to recognize email that are different from the rest of the dataset is can be considered as another example of how unsupervised learning can be used in the email and spam filtering domain.\n",
    "\n",
    "Reinforcement learning is also used in this domain area. It allows to learn through interacting with the environment. Reinforcement learning is used to train a model which allows to automatically classify and detect emails if they are spam or not.\n",
    "\n",
    "In short, AI has developed into a promising tool for email and spam filtering, enabling more precise and effective detection of harmful messages. Artificial intelligence (AI) can be used in this field in a wide range of ways, including machine learning, natural language processing (NLP), and a combination of the two of these techniques as well. AI can also be used to filter out other unnecessary communications, such as spam newsletters, ads, and other unnecessary emails. We may anticipate even more precise and effective spam identification in the future as AI is increasingly used in email and spam filtering.\n",
    "\n",
    "\n"
   ]
  },
  {
   "cell_type": "markdown",
   "id": "f173dbe8-67f6-4698-9d1f-9c4b7a9d27ea",
   "metadata": {},
   "source": [
    "**PART B – COMPARE AND EVALUATE AI TECHNIQUES**"
   ]
  },
  {
   "cell_type": "markdown",
   "id": "fdb50b86-7b2b-4688-9a28-398e472f8015",
   "metadata": {},
   "source": [
    "**1). Naive Bayes Algorithm**\n",
    "\n",
    "A probabilistic technique called Naive Bayes can be used for a number of classification tasks, including filtering of spam and non-spam emails. The algorithm is built on the Bayes theorem, which asserts that the likelihood of one event occurring is associated with the likelihood of related events. When it comes to email categorization, the important event is whether or not an email is a spam, and the relevant events are whether or not specific terms or phrases are present in the email.\n",
    "\n",
    "The Naive Bayes algorithm's primary purpose is to assess the likelihood that an email is a spam by counting the number of specific words or phrases that it contains. To accomplish this, the algorithm is trained on a set of email data that has been identified as either spam or not spam. The algorithm calculates the likelihood that each word or phrase will appear in spam and non-spam emails during the training phase. The classification of new, unseen emails is then done using these probabilities.\n",
    "\n",
    "Spam messages can be filtered using one of three different Naive Bayes algorithms, including the Bernoulli Naive Bayes, Multinomial Naive Bayes, and Gaussian Naive Bayes. The Bernoulli Naive Bayes algorithm is used when a message's features are binary, such as whether or not a word is included. The Multinomial Naive Bayes algorithm is used when a message's properties are count-based, such as the frequency with which a specific word appears in the message. The Gaussian Naive Bayes algorithm is applied when a message's properties, such as its length, are continuous. A Naive Bayes model for spam message filtering must be trained on a dataset of tagged messages. The collection includes labels indicating which messages are spam and which are not.\n",
    "\n",
    "Depending on the presence of certain words, phrases or keywords in the email, the algorithm decides the likelihood that a new email is spam when it is detected. The probability of each word, phrase, or keyword, given that the email is spam, is multiplied together to accomplish this. The likelihood that the email is not spam is then compared with the chance that this is the case, which is determined similarly but using the probabilities of the words, phrases or keywords given that this is the case. If the likelihood that the email is spam is higher than the likelihood that it is not spam, it is labelled as a non-spam.\n",
    "\n",
    "**Advantages of using Naive Bayes** \n",
    "\n",
    "1. Ease of use – Algorithm is considered easy to implement and understand when compared to other algorithms.\n",
    "2. Missing data handling – The algorithm can deal with missing data and yet produce precise predictions.\n",
    "3. Efficiency – The algorithm is efficient when compared to the other algorithms’ computational efficiency. Hence it can be used to handle large-scale applications.\n",
    "\n",
    "**Disadvantages of Naive Bayes**\n",
    "\n",
    "1. Handling non-binary classification – The algorithm’s limited ability to manage binary classification problems.\n",
    "2. Handling missing data – The algorithm might fail to make precise predictions if some features are missing.\n",
    "3. Context sensitivity – Algorithm’s inability to capture the meaning of words or phrases.\n",
    "\n",
    "The Naive Bayes algorithm's simplicity and ease of use are two of its key benefits. It can be applied using a short portion of code and only needs a relatively small amount of training data. It is also computationally effective, making it suitable for extensive applications like email surveillance.\n",
    "\n",
    "In conclusion, the Naive Bayes algorithm offers an easy and effective method for separating between spam and accurate emails. It uses the presence of specific terms or phrases in an email to calculate the likelihood that the email is spam. It is trained on labelled data. Anyways, it comes with its own limitations and boundaries and the performance of the model can be strengthened by adopting more advanced algorithms or by adding new features.\n",
    "\n",
    "\n",
    "\n",
    "**2.) Logistic Regression Algorithm**\n",
    "\n",
    "A statistical technique called logistic regression can be used to categorize data into multiple groups, including identifying spam and non-spam emails. The logistic function, which is used to estimate the probability that an event will occur, serves as the foundation for the method. In the event of interest in email, classification is whether an email is a spam email or not.\n",
    "\n",
    "In order to predict the probability that an email is spam, logistic regression uses a set of input features like the presence or absence of specific words or phrases in the email. The algorithm is trained on a collection of email data that has been labelled, with each email being either classed as spam or not. By changing the parameters of the model during the training phase, the algorithm learns the correlation between the input attributes and the output label.\n",
    "\n",
    "Based on the input features, the algorithm determines if a new email entered to the system is likely to be spam when it is encountered. The input features are transformed using the logistic function into a probability value between 0 and 1. This number shows how likely it is that the email is spam. The email is then classified as spam or not by using a threshold value.\n",
    "\n",
    "**Advantages of Logistic Regression**\n",
    "\n",
    "1. Handling multiple inputs – Multiple input features can be handled by an algorithm, allowing for a more accurate analysis of emails.\n",
    "2. Providing probability values – The algorithm is used to provide probability values for each email instead of a binary classification.\n",
    "3. Widely used method – This technique is a well-known and widely used method which makes it simple to apply and understand.\n",
    "\n",
    "**Disadvantages of Logistic Regression**\n",
    "\n",
    "1. Handling missing data – The algorithm expects all input features to be present for each email. If some features are missing it might cause bias in prediction.\n",
    "2. Imbalance data handling – The algorithm might not perform well enough when there is a big data difference between the classes.\n",
    "\n",
    "Like every other algorithm logistic regression also has its own limitations. But logistic regression also has certain drawbacks. The method makes the assumptions that the input features are separate from one another and that there is a linear relationship between the input features and the output label. In real-world situations, these presumptions might not hold true, especially if the data are highly correlated or difficult to separate linearly. The order and context of the words in the email are also not taken into account by logistic regression, which may be crucial for appropriately identifying some emails.\n",
    "\n",
    "To sum up, Logistic Regression is an effective method that may be used to differentiate between spam and legit emails. It is simple to implement and understand, can handle multiple input features, and provides a probability value for each email. It does not account for the sequence or context of the words and has certain drawbacks, especially when the data is highly correlated or non-linearly separable. To choose the algorithm that best suits the system, it is better to evaluate the algorithm's performance on the data set and compare it to other algorithms.\n",
    "\n",
    "\n",
    "\n",
    "**3). K-Nearest Neighbor**\n",
    "\n",
    "A supervised machine learning technique known as the k-nearest neighbor (k-NN) algorithm can be applied for categorization issues, such as spam and non-spam email filtering. The k-NN algorithm's fundamental principle is to identify a provided email based on the majority of its k nearest neighbors.\n",
    "\n",
    "In order for the k-NN algorithm to function, the classifier must first be trained using a labelled dataset of emails, where each email is classed as either spam or not. By examining the properties of the labelled emails, the algorithm learns the characteristics of spam and non-spam emails during the training phase. After being trained, the classifier can be used to categorize fresh emails as spam or not.\n",
    "\n",
    "The k-NN algorithm determines the distance between a new email and each of the emails in the training dataset whenever a new email is received. Based on this distance calculation, the k nearest algorithms emails that are closest to the new email are then identified. These k closest emails will either be classified as spam or non-spam in the case of spam detection. Then, depending on the majority of its k nearest neighbors, the new email is labelled as spam or not spam.\n",
    "\n",
    "**Advantages of K-NN Algorithm**\n",
    "\n",
    "1. Easy to implement – K-NN is quite easy to implement and understand when compared with other algorithms in the same field.\n",
    "2. Imbalanced data handling – K-NN algorithm is a robust algorithm that can be a help when it comes to imbalanced data sets where there is a huge difference of data between the classes.\n",
    "3. Multi class classification – Algorithm is able to work with multi class classification issues when there are few classes needs to classified.\n",
    "\n",
    "**Disadvantages of K-NN Algorithm**\n",
    "\n",
    "1. Expensiveness – K-NN algorithm can be very expensive in a computational way  when working with large scale data sets. Because the algorithms requires distance between samples in the training data set.\n",
    "2. Memory – The algorithm requires a huge memory space to store data.\n",
    "3. Missing data handling – Algorithm has a weak record when there are huge number of missing values in the data set.\n",
    "\n",
    "Just like every other algorithm K-NN algorithm also has its very own limitations. The approach can be computationally expensive, especially when dealing with huge datasets, which is one of its limitations. The training dataset must be stored in a lot of memory, which is another need of the algorithm. The algorithm may also be sensitive to the selection of k and the distance unit applied.\n",
    "\n",
    "As a result, the k-nearest neighbor (k-NN) algorithm is a robust supervised machine learning approach that can be applied to the filtering of both spam and non-spam email. The k-NN technique can be used with a variety of distance metrics and is not scale-sensitive. It is also relatively simple to develop and understand. In addition, the training dataset needs a lot of Memory space to be stored. In order to choose the algorithm that best suits your use instance, it is important to evaluate the algorithm's performance on the selected data set and compare it to other algorithms."
   ]
  },
  {
   "cell_type": "markdown",
   "id": "8175e9ca-40fa-4c66-ae96-e54586f8b960",
   "metadata": {},
   "source": [
    "**PART C - IMPLEMENTATION**\n",
    "\n",
    "**1). Describe The Input Required For The Implementation**"
   ]
  },
  {
   "cell_type": "markdown",
   "id": "0e783c09-dae4-4329-9e01-6b7d478bfe3e",
   "metadata": {},
   "source": [
    "The author has decided to select MultinomialNB as the required technique to proceed with this project. Since MultinomialNB has been chosen as the approach for this email and spam filtering project the input required is a labelled dataset which contains examplery emails. In the selected dataset there should a extractable features like specific words, phrases or keywords in th subject or in the body of the email. In the selected dataset it is very important that the content is clearly labelled as spam or not spam to make it easy to classify the emails.Datasets are easily accessible through online websites such as kaggle.\n",
    "\n",
    "In the selected dataset the data is in words. Since for machine learning projects the data should be in numerical format this dataset had to be prepared in a specific format to be able to use to train the MultinomialNB model. Since the dataset contains strings they needed to be formatted into vectors in order to be useful for the MultinomialNB model. The emails which are in the dataset needed to be labelled in a specific way to be able work with the selected model. And also the dataset should be preprocessed by removing null values, droping unwanted columns and renaming the necccessary columns in a easy way in order to work with the selected model. Even after doing these preprocessing there was one isuue which stand out which was the dataset was imbalanced. One email class had a significantly higher value than the other class. As a solution for this undersampling technique was used to overcome this issue.\n",
    "\n",
    "After the preprocessing and labelling phase the above mentioned specific keywords, phrases or words will be extracted from the emails. The feature extraction should be in numerical values in order to work with the selected model because of that they should be converted in to numerical values. After that the data will be divided for two parts as training and testing to be able to work with the MultinomialNB. The most common way of doing this is 80% of the data directed to the model training and the rest 20% of data will be directed towards model testing."
   ]
  },
  {
   "cell_type": "markdown",
   "id": "42a07b12-df01-4c69-8582-289bbc028bb5",
   "metadata": {},
   "source": [
    "**2). High Level Diagram**"
   ]
  },
  {
   "cell_type": "code",
   "execution_count": 66,
   "id": "a6f9f64c-43d2-455e-940d-3f629c58e7bc",
   "metadata": {},
   "outputs": [
    {
     "data": {
      "image/png": "[encoded data removed]",
      "text/plain": [
       "<IPython.core.display.Image object>"
      ]
     },
     "execution_count": 66,
     "metadata": {
      "image/png": {
       "width": 1100
      }
     },
     "output_type": "execute_result"
    }
   ],
   "source": [
    "from IPython.display import Image\n",
    "Image(filename=\"images/highlevel.png\", width=1100)"
   ]
  },
  {
   "cell_type": "markdown",
   "id": "5b5b1a36-2174-4bbb-be11-557e77e63236",
   "metadata": {},
   "source": [
    "**PART D - EVALUATION AND TESTING**\n",
    "\n",
    "** Testing and Evaluation Black Box testing is available at : https://docs.google.com/document/d/1wwycddVtwKxNpbtWQ97_WTGqbvozjWlzWWoU-lfJHg4/edit?usp=sharing"
   ]
  },
  {
   "cell_type": "markdown",
   "id": "631d4b1e-4036-4430-a49a-5d414fc905c4",
   "metadata": {},
   "source": [
    "**PART E - EVALUATING RESULTS**"
   ]
  },
  {
   "cell_type": "markdown",
   "id": "f7e6ffbe-e574-4dcd-ac06-f1821856430b",
   "metadata": {},
   "source": [
    "The model selected for this email and spam filtering project is Multinomial Naive Bayes(MultinomialNB). For this model the accuracy rate is 0.98 which is high accuracy score. With the high accuaracy score it suggests that the model is classifying large datasets correctly. Furthermore the precision score for this MultinomialNB is 0.98 and the F1 score for this selected model is 0.98 which indicates that model is performing very well. With a high recall score of 0.98 the model suggests that it is able to correctly identify positive results.\n",
    "\n",
    "After comparing the MultinomialNB model woth the other algorithms like LogisticRegression and KNeighborsClassifier the MultinomialNB model stands out with its high accuracy rate. When using K-NN model it is computationally expensive and also it uses  huge amount of memory space to work with the provided data. When it comes to a project like email and spam filtering which mostly contains text based data a naive bayes algorithm looks to be performing well on the provided dataset.\n",
    "\n",
    "When considering the confusion matrix which shows the true positive and false positive values it can be used to determine if the model is making correct and accurate predictions across all classes. Since there is no big difference between the two values which means that model is generlizing well to new data and it contains a good balance between bias and variance. This type of situations are commonly desirable most of the time and it means that the selected model is identifying both true positive and true negatice examples. And also if the provided dataset is balanced it is very much likely to have similar values for both true positive and true negative values.\n",
    "\n",
    "**Classification Report for Multinomial Naive Bayes**"
   ]
  },
  {
   "cell_type": "code",
   "execution_count": 67,
   "id": "8cc5a883-53fd-49bd-8882-b2007556fd3e",
   "metadata": {},
   "outputs": [
    {
     "data": {
      "image/png": "[encoded data removed]",
      "text/plain": [
       "<IPython.core.display.Image object>"
      ]
     },
     "execution_count": 67,
     "metadata": {
      "image/png": {
       "width": 600
      }
     },
     "output_type": "execute_result"
    }
   ],
   "source": [
    "Image(filename=\"images/multi.png\", width=600)"
   ]
  },
  {
   "cell_type": "markdown",
   "id": "2852ca00-c205-4ed6-abda-eefb264b6d47",
   "metadata": {},
   "source": [
    "**Other Important Documents**\n",
    "\n",
    "Classification Reports for LogisticRegression and K-NN is available here : https://drive.google.com/drive/folders/1pab0vWI8skGFhhXDQYxivTLyYlim5va9?usp=share_link"
   ]
  },
  {
   "cell_type": "code",
   "execution_count": null,
   "id": "5cf4fbc2-a55b-418e-bf14-96ffa85c8846",
   "metadata": {},
   "outputs": [],
   "source": []
  },
  {
   "cell_type": "markdown",
   "id": "afc043d8-2bbb-481c-9f33-4be41e3659da",
   "metadata": {},
   "source": [
    "**IMPLEMENTATION**"
   ]
  },
  {
   "cell_type": "code",
   "execution_count": null,
   "id": "f0ced6a9-878b-4aaa-88c6-4e86f90c0547",
   "metadata": {},
   "outputs": [],
   "source": []
  },
  {
   "cell_type": "code",
   "execution_count": 62,
   "id": "c6d7c631-0d2d-466a-b4b3-d615a533432f",
   "metadata": {},
   "outputs": [],
   "source": [
    "# importing necessary dependencies\n",
    "\n",
    "import numpy as np\n",
    "import pandas as pd\n",
    "import matplotlib.pyplot as plt\n",
    "import seaborn as sns\n",
    "%matplotlib inline\n",
    "from sklearn import metrics\n",
    "from sklearn.model_selection import train_test_split\n",
    "from sklearn.feature_extraction.text import TfidfVectorizer\n",
    "from sklearn.naive_bayes import MultinomialNB\n",
    "from sklearn.linear_model import LogisticRegression\n",
    "from sklearn.tree import DecisionTreeClassifier\n",
    "from sklearn.ensemble import RandomForestClassifier\n",
    "from sklearn.neighbors import KNeighborsClassifier\n",
    "from sklearn import svm\n",
    "from sklearn.metrics import accuracy_score\n",
    "from sklearn.metrics import roc_auc_score\n",
    "from matplotlib import pyplot\n",
    "from sklearn.metrics import plot_confusion_matrix"
   ]
  },
  {
   "cell_type": "code",
   "execution_count": 4,
   "id": "e5a223bd-a618-4ef0-a2d9-0babd798bcd5",
   "metadata": {},
   "outputs": [],
   "source": [
    "# reading data from the csv file\n",
    "\n",
    "mail_dataset = pd.read_csv('spam.csv', encoding = \"ISO-8859-1\")"
   ]
  },
  {
   "cell_type": "code",
   "execution_count": 5,
   "id": "9419a1b2-69f3-4abb-b817-adc45750af00",
   "metadata": {},
   "outputs": [
    {
     "name": "stdout",
     "output_type": "stream",
     "text": [
      "        v1                                                 v2 Unnamed: 2  \\\n",
      "0      ham  Go until jurong point, crazy.. Available only ...        NaN   \n",
      "1      ham                      Ok lar... Joking wif u oni...        NaN   \n",
      "2     spam  Free entry in 2 a wkly comp to win FA Cup fina...        NaN   \n",
      "3      ham  U dun say so early hor... U c already then say...        NaN   \n",
      "4      ham  Nah I don't think he goes to usf, he lives aro...        NaN   \n",
      "...    ...                                                ...        ...   \n",
      "5567  spam  This is the 2nd time we have tried 2 contact u...        NaN   \n",
      "5568   ham              Will Ì_ b going to esplanade fr home?        NaN   \n",
      "5569   ham  Pity, * was in mood for that. So...any other s...        NaN   \n",
      "5570   ham  The guy did some bitching but I acted like i'd...        NaN   \n",
      "5571   ham                         Rofl. Its true to its name        NaN   \n",
      "\n",
      "     Unnamed: 3 Unnamed: 4  \n",
      "0           NaN        NaN  \n",
      "1           NaN        NaN  \n",
      "2           NaN        NaN  \n",
      "3           NaN        NaN  \n",
      "4           NaN        NaN  \n",
      "...         ...        ...  \n",
      "5567        NaN        NaN  \n",
      "5568        NaN        NaN  \n",
      "5569        NaN        NaN  \n",
      "5570        NaN        NaN  \n",
      "5571        NaN        NaN  \n",
      "\n",
      "[5572 rows x 5 columns]\n"
     ]
    }
   ],
   "source": [
    "print(mail_dataset)"
   ]
  },
  {
   "cell_type": "code",
   "execution_count": 6,
   "id": "8621492d-30c4-4100-9df6-61c008c801cb",
   "metadata": {},
   "outputs": [],
   "source": [
    "# dealing with null values\n",
    "\n",
    "new_mail_dataset = mail_dataset.where((pd.notnull(mail_dataset)),'')"
   ]
  },
  {
   "cell_type": "code",
   "execution_count": 7,
   "id": "93fd06f2-0d9f-4612-b92b-8b8715830f1e",
   "metadata": {},
   "outputs": [
    {
     "data": {
      "text/html": [
       "<div>\n",
       "<style scoped>\n",
       "    .dataframe tbody tr th:only-of-type {\n",
       "        vertical-align: middle;\n",
       "    }\n",
       "\n",
       "    .dataframe tbody tr th {\n",
       "        vertical-align: top;\n",
       "    }\n",
       "\n",
       "    .dataframe thead th {\n",
       "        text-align: right;\n",
       "    }\n",
       "</style>\n",
       "<table border=\"1\" class=\"dataframe\">\n",
       "  <thead>\n",
       "    <tr style=\"text-align: right;\">\n",
       "      <th></th>\n",
       "      <th>v1</th>\n",
       "      <th>v2</th>\n",
       "      <th>Unnamed: 2</th>\n",
       "      <th>Unnamed: 3</th>\n",
       "      <th>Unnamed: 4</th>\n",
       "    </tr>\n",
       "  </thead>\n",
       "  <tbody>\n",
       "    <tr>\n",
       "      <th>0</th>\n",
       "      <td>ham</td>\n",
       "      <td>Go until jurong point, crazy.. Available only ...</td>\n",
       "      <td></td>\n",
       "      <td></td>\n",
       "      <td></td>\n",
       "    </tr>\n",
       "    <tr>\n",
       "      <th>1</th>\n",
       "      <td>ham</td>\n",
       "      <td>Ok lar... Joking wif u oni...</td>\n",
       "      <td></td>\n",
       "      <td></td>\n",
       "      <td></td>\n",
       "    </tr>\n",
       "    <tr>\n",
       "      <th>2</th>\n",
       "      <td>spam</td>\n",
       "      <td>Free entry in 2 a wkly comp to win FA Cup fina...</td>\n",
       "      <td></td>\n",
       "      <td></td>\n",
       "      <td></td>\n",
       "    </tr>\n",
       "    <tr>\n",
       "      <th>3</th>\n",
       "      <td>ham</td>\n",
       "      <td>U dun say so early hor... U c already then say...</td>\n",
       "      <td></td>\n",
       "      <td></td>\n",
       "      <td></td>\n",
       "    </tr>\n",
       "    <tr>\n",
       "      <th>4</th>\n",
       "      <td>ham</td>\n",
       "      <td>Nah I don't think he goes to usf, he lives aro...</td>\n",
       "      <td></td>\n",
       "      <td></td>\n",
       "      <td></td>\n",
       "    </tr>\n",
       "  </tbody>\n",
       "</table>\n",
       "</div>"
      ],
      "text/plain": [
       "     v1                                                 v2 Unnamed: 2  \\\n",
       "0   ham  Go until jurong point, crazy.. Available only ...              \n",
       "1   ham                      Ok lar... Joking wif u oni...              \n",
       "2  spam  Free entry in 2 a wkly comp to win FA Cup fina...              \n",
       "3   ham  U dun say so early hor... U c already then say...              \n",
       "4   ham  Nah I don't think he goes to usf, he lives aro...              \n",
       "\n",
       "  Unnamed: 3 Unnamed: 4  \n",
       "0                        \n",
       "1                        \n",
       "2                        \n",
       "3                        \n",
       "4                        "
      ]
     },
     "execution_count": 7,
     "metadata": {},
     "output_type": "execute_result"
    }
   ],
   "source": [
    "new_mail_dataset.head()"
   ]
  },
  {
   "cell_type": "code",
   "execution_count": 8,
   "id": "c8b4a96a-3d99-4b81-8ee6-5717495787c6",
   "metadata": {},
   "outputs": [],
   "source": [
    "# dropping unwanted columns\n",
    "\n",
    "new_mail_dataset.drop(['Unnamed: 2', 'Unnamed: 3', 'Unnamed: 4'], axis = 1, inplace = True)"
   ]
  },
  {
   "cell_type": "code",
   "execution_count": 9,
   "id": "337d7984-1098-49bc-bb7a-286bbc3dc9b4",
   "metadata": {},
   "outputs": [
    {
     "data": {
      "text/html": [
       "<div>\n",
       "<style scoped>\n",
       "    .dataframe tbody tr th:only-of-type {\n",
       "        vertical-align: middle;\n",
       "    }\n",
       "\n",
       "    .dataframe tbody tr th {\n",
       "        vertical-align: top;\n",
       "    }\n",
       "\n",
       "    .dataframe thead th {\n",
       "        text-align: right;\n",
       "    }\n",
       "</style>\n",
       "<table border=\"1\" class=\"dataframe\">\n",
       "  <thead>\n",
       "    <tr style=\"text-align: right;\">\n",
       "      <th></th>\n",
       "      <th>v1</th>\n",
       "      <th>v2</th>\n",
       "    </tr>\n",
       "  </thead>\n",
       "  <tbody>\n",
       "    <tr>\n",
       "      <th>0</th>\n",
       "      <td>ham</td>\n",
       "      <td>Go until jurong point, crazy.. Available only ...</td>\n",
       "    </tr>\n",
       "    <tr>\n",
       "      <th>1</th>\n",
       "      <td>ham</td>\n",
       "      <td>Ok lar... Joking wif u oni...</td>\n",
       "    </tr>\n",
       "    <tr>\n",
       "      <th>2</th>\n",
       "      <td>spam</td>\n",
       "      <td>Free entry in 2 a wkly comp to win FA Cup fina...</td>\n",
       "    </tr>\n",
       "    <tr>\n",
       "      <th>3</th>\n",
       "      <td>ham</td>\n",
       "      <td>U dun say so early hor... U c already then say...</td>\n",
       "    </tr>\n",
       "    <tr>\n",
       "      <th>4</th>\n",
       "      <td>ham</td>\n",
       "      <td>Nah I don't think he goes to usf, he lives aro...</td>\n",
       "    </tr>\n",
       "  </tbody>\n",
       "</table>\n",
       "</div>"
      ],
      "text/plain": [
       "     v1                                                 v2\n",
       "0   ham  Go until jurong point, crazy.. Available only ...\n",
       "1   ham                      Ok lar... Joking wif u oni...\n",
       "2  spam  Free entry in 2 a wkly comp to win FA Cup fina...\n",
       "3   ham  U dun say so early hor... U c already then say...\n",
       "4   ham  Nah I don't think he goes to usf, he lives aro..."
      ]
     },
     "execution_count": 9,
     "metadata": {},
     "output_type": "execute_result"
    }
   ],
   "source": [
    "new_mail_dataset.head()"
   ]
  },
  {
   "cell_type": "code",
   "execution_count": 10,
   "id": "43365934-aa05-4359-8f1f-4e95dc6bc138",
   "metadata": {},
   "outputs": [
    {
     "data": {
      "text/html": [
       "<div>\n",
       "<style scoped>\n",
       "    .dataframe tbody tr th:only-of-type {\n",
       "        vertical-align: middle;\n",
       "    }\n",
       "\n",
       "    .dataframe tbody tr th {\n",
       "        vertical-align: top;\n",
       "    }\n",
       "\n",
       "    .dataframe thead th {\n",
       "        text-align: right;\n",
       "    }\n",
       "</style>\n",
       "<table border=\"1\" class=\"dataframe\">\n",
       "  <thead>\n",
       "    <tr style=\"text-align: right;\">\n",
       "      <th></th>\n",
       "      <th>Category</th>\n",
       "      <th>Messages</th>\n",
       "    </tr>\n",
       "  </thead>\n",
       "  <tbody>\n",
       "    <tr>\n",
       "      <th>0</th>\n",
       "      <td>ham</td>\n",
       "      <td>Go until jurong point, crazy.. Available only ...</td>\n",
       "    </tr>\n",
       "    <tr>\n",
       "      <th>1</th>\n",
       "      <td>ham</td>\n",
       "      <td>Ok lar... Joking wif u oni...</td>\n",
       "    </tr>\n",
       "    <tr>\n",
       "      <th>2</th>\n",
       "      <td>spam</td>\n",
       "      <td>Free entry in 2 a wkly comp to win FA Cup fina...</td>\n",
       "    </tr>\n",
       "    <tr>\n",
       "      <th>3</th>\n",
       "      <td>ham</td>\n",
       "      <td>U dun say so early hor... U c already then say...</td>\n",
       "    </tr>\n",
       "    <tr>\n",
       "      <th>4</th>\n",
       "      <td>ham</td>\n",
       "      <td>Nah I don't think he goes to usf, he lives aro...</td>\n",
       "    </tr>\n",
       "  </tbody>\n",
       "</table>\n",
       "</div>"
      ],
      "text/plain": [
       "  Category                                           Messages\n",
       "0      ham  Go until jurong point, crazy.. Available only ...\n",
       "1      ham                      Ok lar... Joking wif u oni...\n",
       "2     spam  Free entry in 2 a wkly comp to win FA Cup fina...\n",
       "3      ham  U dun say so early hor... U c already then say...\n",
       "4      ham  Nah I don't think he goes to usf, he lives aro..."
      ]
     },
     "execution_count": 10,
     "metadata": {},
     "output_type": "execute_result"
    }
   ],
   "source": [
    "# renaming the columns\n",
    "\n",
    "new_mail_dataset.rename(columns={'v1':'Category','v2':'Messages'}, inplace = True)\n",
    "new_mail_dataset.head()"
   ]
  },
  {
   "cell_type": "code",
   "execution_count": 11,
   "id": "b61aa23f-6ca2-4814-ac41-a59651ac217c",
   "metadata": {},
   "outputs": [
    {
     "data": {
      "text/plain": [
       "(5572, 2)"
      ]
     },
     "execution_count": 11,
     "metadata": {},
     "output_type": "execute_result"
    }
   ],
   "source": [
    "# checking the new shape of the dataset\n",
    "new_mail_dataset.shape"
   ]
  },
  {
   "cell_type": "code",
   "execution_count": 12,
   "id": "b0a29378-8f8a-49bb-b03c-3cb4d9fb5b15",
   "metadata": {},
   "outputs": [
    {
     "data": {
      "image/png": "[encoded data removed]",
      "text/plain": [
       "<Figure size 640x480 with 1 Axes>"
      ]
     },
     "metadata": {},
     "output_type": "display_data"
    }
   ],
   "source": [
    "# clear view of spam and non spam mails in the unbalanced dataset\n",
    "\n",
    "n, bin1, patches = plt.hist(new_mail_dataset['Category'], color = [\"purple\"], bins = 5);\n",
    "patches[0].set_fc(\"yellow\")\n",
    "plt.title('Number of Spam and  Non Spam Messages (Unbalanced dataset)', fontsize = 19)\n",
    "plt.xlabel('Message Type: Spam (1) and Non Spam (0) ')\n",
    "plt.ylabel('Email Count');"
   ]
  },
  {
   "cell_type": "markdown",
   "id": "ec706c6e-6359-4492-971d-fb2d5f114d22",
   "metadata": {},
   "source": [
    "Undersampling to balance data"
   ]
  },
  {
   "cell_type": "code",
   "execution_count": 13,
   "id": "a1dfbab3-6e17-4b97-abbc-87d27c074af8",
   "metadata": {},
   "outputs": [],
   "source": [
    "# undersampling data for a balanced data set\n",
    "\n",
    "ham = new_mail_dataset[new_mail_dataset.Category == 'ham']\n",
    "spam = new_mail_dataset[new_mail_dataset.Category == 'spam']"
   ]
  },
  {
   "cell_type": "code",
   "execution_count": 14,
   "id": "80210451-0fdb-4c4e-a0a4-5ea9391171be",
   "metadata": {},
   "outputs": [
    {
     "name": "stdout",
     "output_type": "stream",
     "text": [
      "(4825, 2)\n",
      "(747, 2)\n"
     ]
    }
   ],
   "source": [
    "print(ham.shape)\n",
    "print(spam.shape)"
   ]
  },
  {
   "cell_type": "code",
   "execution_count": 15,
   "id": "4ac606ae-e03f-4b07-9ae8-6c0df6113a02",
   "metadata": {},
   "outputs": [
    {
     "name": "stdout",
     "output_type": "stream",
     "text": [
      "(747, 2)\n"
     ]
    }
   ],
   "source": [
    "ham_sample = ham.sample(n=747)\n",
    "print(ham_sample.shape)"
   ]
  },
  {
   "cell_type": "code",
   "execution_count": 16,
   "id": "5b0f542b-f2c5-4fee-adc5-6f06fc8b7c80",
   "metadata": {},
   "outputs": [
    {
     "data": {
      "text/html": [
       "<div>\n",
       "<style scoped>\n",
       "    .dataframe tbody tr th:only-of-type {\n",
       "        vertical-align: middle;\n",
       "    }\n",
       "\n",
       "    .dataframe tbody tr th {\n",
       "        vertical-align: top;\n",
       "    }\n",
       "\n",
       "    .dataframe thead th {\n",
       "        text-align: right;\n",
       "    }\n",
       "</style>\n",
       "<table border=\"1\" class=\"dataframe\">\n",
       "  <thead>\n",
       "    <tr style=\"text-align: right;\">\n",
       "      <th></th>\n",
       "      <th>Category</th>\n",
       "      <th>Messages</th>\n",
       "    </tr>\n",
       "  </thead>\n",
       "  <tbody>\n",
       "    <tr>\n",
       "      <th>1142</th>\n",
       "      <td>ham</td>\n",
       "      <td>Have you had a good day? Mine was really busy ...</td>\n",
       "    </tr>\n",
       "    <tr>\n",
       "      <th>156</th>\n",
       "      <td>ham</td>\n",
       "      <td>I'm leaving my house now...</td>\n",
       "    </tr>\n",
       "    <tr>\n",
       "      <th>4170</th>\n",
       "      <td>ham</td>\n",
       "      <td>Pls what's the full name of joke's school cos ...</td>\n",
       "    </tr>\n",
       "    <tr>\n",
       "      <th>126</th>\n",
       "      <td>ham</td>\n",
       "      <td>Just so that you know,yetunde hasn't sent mone...</td>\n",
       "    </tr>\n",
       "    <tr>\n",
       "      <th>151</th>\n",
       "      <td>ham</td>\n",
       "      <td>Yup i thk cine is better cos no need 2 go down...</td>\n",
       "    </tr>\n",
       "  </tbody>\n",
       "</table>\n",
       "</div>"
      ],
      "text/plain": [
       "     Category                                           Messages\n",
       "1142      ham  Have you had a good day? Mine was really busy ...\n",
       "156       ham                        I'm leaving my house now...\n",
       "4170      ham  Pls what's the full name of joke's school cos ...\n",
       "126       ham  Just so that you know,yetunde hasn't sent mone...\n",
       "151       ham  Yup i thk cine is better cos no need 2 go down..."
      ]
     },
     "execution_count": 16,
     "metadata": {},
     "output_type": "execute_result"
    }
   ],
   "source": [
    "modified_data = pd.concat([ham_sample, spam], axis = 0)\n",
    "modified_data.head()"
   ]
  },
  {
   "cell_type": "code",
   "execution_count": 17,
   "id": "c8083635-750c-42cb-9ce5-5e5cc82ecc1a",
   "metadata": {},
   "outputs": [
    {
     "data": {
      "text/html": [
       "<div>\n",
       "<style scoped>\n",
       "    .dataframe tbody tr th:only-of-type {\n",
       "        vertical-align: middle;\n",
       "    }\n",
       "\n",
       "    .dataframe tbody tr th {\n",
       "        vertical-align: top;\n",
       "    }\n",
       "\n",
       "    .dataframe thead th {\n",
       "        text-align: right;\n",
       "    }\n",
       "</style>\n",
       "<table border=\"1\" class=\"dataframe\">\n",
       "  <thead>\n",
       "    <tr style=\"text-align: right;\">\n",
       "      <th></th>\n",
       "      <th>Category</th>\n",
       "      <th>Messages</th>\n",
       "    </tr>\n",
       "  </thead>\n",
       "  <tbody>\n",
       "    <tr>\n",
       "      <th>1142</th>\n",
       "      <td>0</td>\n",
       "      <td>Have you had a good day? Mine was really busy ...</td>\n",
       "    </tr>\n",
       "    <tr>\n",
       "      <th>156</th>\n",
       "      <td>0</td>\n",
       "      <td>I'm leaving my house now...</td>\n",
       "    </tr>\n",
       "    <tr>\n",
       "      <th>4170</th>\n",
       "      <td>0</td>\n",
       "      <td>Pls what's the full name of joke's school cos ...</td>\n",
       "    </tr>\n",
       "    <tr>\n",
       "      <th>126</th>\n",
       "      <td>0</td>\n",
       "      <td>Just so that you know,yetunde hasn't sent mone...</td>\n",
       "    </tr>\n",
       "    <tr>\n",
       "      <th>151</th>\n",
       "      <td>0</td>\n",
       "      <td>Yup i thk cine is better cos no need 2 go down...</td>\n",
       "    </tr>\n",
       "  </tbody>\n",
       "</table>\n",
       "</div>"
      ],
      "text/plain": [
       "      Category                                           Messages\n",
       "1142         0  Have you had a good day? Mine was really busy ...\n",
       "156          0                        I'm leaving my house now...\n",
       "4170         0  Pls what's the full name of joke's school cos ...\n",
       "126          0  Just so that you know,yetunde hasn't sent mone...\n",
       "151          0  Yup i thk cine is better cos no need 2 go down..."
      ]
     },
     "execution_count": 17,
     "metadata": {},
     "output_type": "execute_result"
    }
   ],
   "source": [
    "# replcaing ham and spam with 0 and 1\n",
    "\n",
    "modified_data['Category'] = modified_data['Category'].map({'ham': 0, 'spam': 1})\n",
    "modified_data.head()"
   ]
  },
  {
   "cell_type": "code",
   "execution_count": 18,
   "id": "708b1178-8ff5-44bd-bb23-d2012bb63d95",
   "metadata": {},
   "outputs": [
    {
     "data": {
      "text/html": [
       "<div>\n",
       "<style scoped>\n",
       "    .dataframe tbody tr th:only-of-type {\n",
       "        vertical-align: middle;\n",
       "    }\n",
       "\n",
       "    .dataframe tbody tr th {\n",
       "        vertical-align: top;\n",
       "    }\n",
       "\n",
       "    .dataframe thead th {\n",
       "        text-align: right;\n",
       "    }\n",
       "</style>\n",
       "<table border=\"1\" class=\"dataframe\">\n",
       "  <thead>\n",
       "    <tr style=\"text-align: right;\">\n",
       "      <th></th>\n",
       "      <th>Category</th>\n",
       "      <th>Messages</th>\n",
       "    </tr>\n",
       "  </thead>\n",
       "  <tbody>\n",
       "    <tr>\n",
       "      <th>5537</th>\n",
       "      <td>1</td>\n",
       "      <td>Want explicit SEX in 30 secs? Ring 02073162414...</td>\n",
       "    </tr>\n",
       "    <tr>\n",
       "      <th>5540</th>\n",
       "      <td>1</td>\n",
       "      <td>ASKED 3MOBILE IF 0870 CHATLINES INCLU IN FREE ...</td>\n",
       "    </tr>\n",
       "    <tr>\n",
       "      <th>5547</th>\n",
       "      <td>1</td>\n",
       "      <td>Had your contract mobile 11 Mnths? Latest Moto...</td>\n",
       "    </tr>\n",
       "    <tr>\n",
       "      <th>5566</th>\n",
       "      <td>1</td>\n",
       "      <td>REMINDER FROM O2: To get 2.50 pounds free call...</td>\n",
       "    </tr>\n",
       "    <tr>\n",
       "      <th>5567</th>\n",
       "      <td>1</td>\n",
       "      <td>This is the 2nd time we have tried 2 contact u...</td>\n",
       "    </tr>\n",
       "  </tbody>\n",
       "</table>\n",
       "</div>"
      ],
      "text/plain": [
       "      Category                                           Messages\n",
       "5537         1  Want explicit SEX in 30 secs? Ring 02073162414...\n",
       "5540         1  ASKED 3MOBILE IF 0870 CHATLINES INCLU IN FREE ...\n",
       "5547         1  Had your contract mobile 11 Mnths? Latest Moto...\n",
       "5566         1  REMINDER FROM O2: To get 2.50 pounds free call...\n",
       "5567         1  This is the 2nd time we have tried 2 contact u..."
      ]
     },
     "execution_count": 18,
     "metadata": {},
     "output_type": "execute_result"
    }
   ],
   "source": [
    "modified_data.tail()"
   ]
  },
  {
   "cell_type": "code",
   "execution_count": 19,
   "id": "7d2c9d53-595c-4d96-aabe-105122cdb472",
   "metadata": {},
   "outputs": [
    {
     "data": {
      "text/plain": [
       "0    747\n",
       "1    747\n",
       "Name: Category, dtype: int64"
      ]
     },
     "execution_count": 19,
     "metadata": {},
     "output_type": "execute_result"
    }
   ],
   "source": [
    "new_dataset = modified_data\n",
    "new_dataset['Category'].value_counts()"
   ]
  },
  {
   "cell_type": "code",
   "execution_count": 20,
   "id": "39a8a8c3-aba9-4c87-9e10-e11c1e4cbab3",
   "metadata": {},
   "outputs": [
    {
     "name": "stdout",
     "output_type": "stream",
     "text": [
      "(1494, 2)\n"
     ]
    }
   ],
   "source": [
    "print(new_dataset.shape)"
   ]
  },
  {
   "cell_type": "code",
   "execution_count": 21,
   "id": "d379bb39-466f-4e69-80f3-63af4613ee4e",
   "metadata": {},
   "outputs": [
    {
     "data": {
      "image/png": "[encoded data removed]",
      "text/plain": [
       "<Figure size 640x480 with 1 Axes>"
      ]
     },
     "metadata": {},
     "output_type": "display_data"
    }
   ],
   "source": [
    "# clear view of spam and non spam mails in the unbalanced dataset\n",
    "\n",
    "n, bin1, patches = plt.hist(new_dataset['Category'], color = [\"purple\"], bins = 5);\n",
    "patches[0].set_fc(\"yellow\")\n",
    "plt.title('Number of Spam and  Non Spam Messages (Balanced dataset)', fontsize = 19)\n",
    "plt.xlabel('Message Type: Spam (1) and Non Spam (0) ')\n",
    "plt.ylabel('Email Count');"
   ]
  },
  {
   "cell_type": "code",
   "execution_count": 22,
   "id": "fc795878-5d3c-4e00-ae97-0f85f8614e85",
   "metadata": {},
   "outputs": [],
   "source": [
    "# data separation for label and text in the data set\n",
    "\n",
    "X = new_dataset['Messages']\n",
    "Y = new_dataset['Category']"
   ]
  },
  {
   "cell_type": "code",
   "execution_count": 23,
   "id": "d477fb98-0f50-4ccb-8d8e-d6a0dd599756",
   "metadata": {},
   "outputs": [],
   "source": [
    "# separating the data as training and testing data\n",
    "\n",
    "X_train, X_test, Y_train, Y_test = train_test_split(X, Y, test_size = 0.2)"
   ]
  },
  {
   "cell_type": "code",
   "execution_count": 24,
   "id": "e41376dd-1d75-4319-a130-5fccf75575e7",
   "metadata": {},
   "outputs": [],
   "source": [
    "# Converting text values to numercal values\n",
    "\n",
    "text_conversion = TfidfVectorizer(min_df = 1, stop_words = 'english', lowercase = 'True')"
   ]
  },
  {
   "cell_type": "code",
   "execution_count": 25,
   "id": "fec00a82-f7db-44c7-a101-7ec780967679",
   "metadata": {},
   "outputs": [],
   "source": [
    "X_train_conversion = text_conversion.fit_transform(X_train)\n",
    "X_test_conversion = text_conversion.transform(X_test)"
   ]
  },
  {
   "cell_type": "code",
   "execution_count": 26,
   "id": "0d2469c3-dcc0-4952-b84f-e816f946c860",
   "metadata": {},
   "outputs": [],
   "source": [
    "# converting data into integers\n",
    "\n",
    "#Y_train = Y_train.astype('int')\n",
    "#Y_test = Y_test.astype('int')"
   ]
  },
  {
   "cell_type": "code",
   "execution_count": 27,
   "id": "4137f64f-a5ed-40ce-8dd9-61147c4b334f",
   "metadata": {},
   "outputs": [],
   "source": [
    "# Creating the model\n",
    "\n",
    "model = MultinomialNB()"
   ]
  },
  {
   "cell_type": "code",
   "execution_count": 28,
   "id": "fca80df8-7286-4f7c-97b4-e77d38cac11b",
   "metadata": {},
   "outputs": [
    {
     "data": {
      "text/plain": [
       "MultinomialNB()"
      ]
     },
     "execution_count": 28,
     "metadata": {},
     "output_type": "execute_result"
    }
   ],
   "source": [
    "# training the model\n",
    "\n",
    "model.fit(X_train_conversion, Y_train)"
   ]
  },
  {
   "cell_type": "code",
   "execution_count": 29,
   "id": "baa1e7f9-45c1-4dbb-ab88-3a2192b5d8c8",
   "metadata": {},
   "outputs": [
    {
     "name": "stdout",
     "output_type": "stream",
     "text": [
      " Training data accuracy using MultinomialNB is :  0.9849372384937238\n"
     ]
    }
   ],
   "source": [
    "# Evaluating the model and predicting on training data with Naive Bayes\n",
    "\n",
    "training_data_prediction = model.predict(X_train_conversion)\n",
    "training_data_accuracy = accuracy_score(Y_train, training_data_prediction)\n",
    "print(' Training data accuracy using MultinomialNB is : ', training_data_accuracy)"
   ]
  },
  {
   "cell_type": "code",
   "execution_count": 30,
   "id": "c8309c2b-4018-4ec8-be54-525ac8caa8fc",
   "metadata": {},
   "outputs": [
    {
     "name": "stdout",
     "output_type": "stream",
     "text": [
      " Testing data accuracy using MultinomialNB is :  0.9665551839464883\n"
     ]
    }
   ],
   "source": [
    "# Evaluating the model and predicting on testing data with Naive Bayes\n",
    "\n",
    "testing_data_prediction = model.predict(X_test_conversion)\n",
    "testing_data_accuracy = accuracy_score(Y_test, testing_data_prediction)\n",
    "print(' Testing data accuracy using MultinomialNB is : ', testing_data_accuracy)"
   ]
  },
  {
   "cell_type": "code",
   "execution_count": 31,
   "id": "d4e0ea04-998c-455c-9ac0-e2a3547ef0f5",
   "metadata": {},
   "outputs": [
    {
     "name": "stdout",
     "output_type": "stream",
     "text": [
      "Classification Report for MultinomialNB\n",
      "              precision    recall  f1-score   support\n",
      "\n",
      "           0       0.98      0.99      0.99       605\n",
      "           1       0.99      0.98      0.98       590\n",
      "\n",
      "    accuracy                           0.98      1195\n",
      "   macro avg       0.98      0.98      0.98      1195\n",
      "weighted avg       0.98      0.98      0.98      1195\n",
      "\n",
      "Confusion Matrix : \n",
      " [[597   8]\n",
      " [ 10 580]]\n",
      "\n"
     ]
    }
   ],
   "source": [
    "from sklearn.metrics import classification_report, confusion_matrix\n",
    "prediction = model.predict(X_train_conversion)\n",
    "print('Classification Report for MultinomialNB')\n",
    "print(classification_report(Y_train,prediction))\n",
    "print('Confusion Matrix : \\n', confusion_matrix(Y_train,prediction))\n",
    "print()"
   ]
  },
  {
   "cell_type": "code",
   "execution_count": 32,
   "id": "aa099d8c-7789-407e-b5cc-221ef33edab1",
   "metadata": {},
   "outputs": [
    {
     "data": {
      "image/png": "[encoded data removed]",
      "text/plain": [
       "<Figure size 640x480 with 1 Axes>"
      ]
     },
     "metadata": {},
     "output_type": "display_data"
    }
   ],
   "source": [
    "# Evaluation using AUC curve\n",
    "\n",
    "testing_data_prediction = model.predict_proba(X_train_conversion)[::,1]\n",
    "fpr, tpr, _ = metrics.roc_curve(Y_train, testing_data_prediction)\n",
    "auc = metrics.roc_auc_score(Y_train, testing_data_prediction)\n",
    "plt.plot(fpr,tpr,label=\"data 1, auc=\"+str(auc))\n",
    "plt.legend(loc=4)\n",
    "plt.show()"
   ]
  },
  {
   "cell_type": "code",
   "execution_count": 59,
   "id": "74b729f9-098f-46a5-a4ee-1eda89e2440f",
   "metadata": {},
   "outputs": [],
   "source": [
    "# model testing with examples and converion for not spam email\n",
    "\n",
    "not_spam_example_mail = ['Wish you a speedy recovery']\n",
    "\n",
    "not_spam_example_mail_conversion = text_conversion.transform(not_spam_example_mail)"
   ]
  },
  {
   "cell_type": "code",
   "execution_count": 60,
   "id": "79335e4b-37bf-46cf-a47d-e088ae1168f4",
   "metadata": {},
   "outputs": [
    {
     "name": "stdout",
     "output_type": "stream",
     "text": [
      "[0]\n"
     ]
    }
   ],
   "source": [
    "# evaluating the system with not spam example prediction\n",
    "\n",
    "not_spam_example_prediction = model.predict(not_spam_example_mail_conversion)\n",
    "print(not_spam_example_prediction)"
   ]
  },
  {
   "cell_type": "code",
   "execution_count": 43,
   "id": "9ab1abb5-c901-43ee-b554-cf12f8c04b79",
   "metadata": {},
   "outputs": [],
   "source": [
    "# model testing with examples and converion for spam email\n",
    "\n",
    "spam_example_mail = ['Mine or claim a cryptocurrency']\n",
    "\n",
    "spam_example_mail_conversion = text_conversion.transform(spam_example_mail)"
   ]
  },
  {
   "cell_type": "code",
   "execution_count": 44,
   "id": "8a24b8c7-beb1-49b4-a7d4-cb4cc85caa8b",
   "metadata": {},
   "outputs": [
    {
     "name": "stdout",
     "output_type": "stream",
     "text": [
      "[1]\n"
     ]
    }
   ],
   "source": [
    "# evaluating the system with spam example prediction\n",
    "\n",
    "spam_example_prediction = model.predict(spam_example_mail_conversion)\n",
    "print(spam_example_prediction)"
   ]
  },
  {
   "cell_type": "code",
   "execution_count": null,
   "id": "68b4fe0e-27b7-400a-ba33-0cee6d3d3ba7",
   "metadata": {},
   "outputs": [],
   "source": []
  },
  {
   "cell_type": "code",
   "execution_count": null,
   "id": "2b7ae3a8-4a9e-4cab-be1a-c00cabf7b890",
   "metadata": {},
   "outputs": [],
   "source": []
  },
  {
   "cell_type": "markdown",
   "id": "2c129255-1b49-49d2-b6f1-696aa55ae090",
   "metadata": {},
   "source": [
    "**References**"
   ]
  },
  {
   "cell_type": "markdown",
   "id": "631884b4-f6be-4ccf-b305-91df123bd1b8",
   "metadata": {},
   "source": [
    "** Auc curve - https://scikit-learn.org/stable/modules/generated/sklearn.metrics.auc.html"
   ]
  },
  {
   "cell_type": "markdown",
   "id": "e95bc405-915f-465e-a520-1fb58ee13c74",
   "metadata": {},
   "source": [
    "** Logistic regression - https://scikit-learn.org/stable/modules/generated/sklearn.linear_model.LogisticRegression.html"
   ]
  },
  {
   "cell_type": "markdown",
   "id": "a43e98a3-a2b5-454d-ad7a-8eae4c3fbf98",
   "metadata": {},
   "source": [
    "** Naive bayes - https://scikit-learn.org/stable/modules/naive_bayes.html"
   ]
  },
  {
   "cell_type": "markdown",
   "id": "914f0a6e-4ddc-40a6-ae56-12a0a5e772ed",
   "metadata": {},
   "source": [
    "** K-NN - https://scikit-learn.org/stable/modules/generated/sklearn.neighbors.KNeighborsClassifier.html"
   ]
  },
  {
   "cell_type": "markdown",
   "id": "dc62b95c-5d36-42da-8803-2d33ba26b188",
   "metadata": {},
   "source": [
    "** Advantages and disadvantages of naive bayes - https://www.upgrad.com/blog/naive-bayes-explained/"
   ]
  },
  {
   "cell_type": "markdown",
   "id": "08a4c537-f1b2-4e35-be11-ea5924a91aef",
   "metadata": {},
   "source": [
    "** Advantages and disadvantages of Logistic regression - https://www.geeksforgeeks.org/advantages-and-disadvantages-of-logistic-regression/"
   ]
  },
  {
   "cell_type": "markdown",
   "id": "daa8717f-6ce1-4620-b4b0-9baa123a15c1",
   "metadata": {},
   "source": [
    "** Advantages and disadvantages of KNN - https://medium.com/@anuuz.soni/advantages-and-disadvantages-of-knn-ee06599b9336"
   ]
  },
  {
   "cell_type": "markdown",
   "id": "2b23c020-bc72-47df-8785-1784c486e013",
   "metadata": {},
   "source": [
    "Soyemi, J. and Hammed, M. (2020) “Detection and classification of legitimate and spam emails using k-nearest neighbor augmented with quadratic sieve algorithm,” International Journal of Computer Applications, 175(18), pp. 28–32. Available at: https://doi.org/10.5120/ijca2020920700. "
   ]
  },
  {
   "cell_type": "markdown",
   "id": "e23e58e5-3656-4881-840c-d9640c00ceac",
   "metadata": {},
   "source": [
    "Mrisho, Z.K., Ndibwile, J.D. and Sam, A.E. (2021) “Low time complexity model for email spam detection using logistic regression,” International Journal of Advanced Computer Science and Applications, 12(12). Available at: https://doi.org/10.14569/ijacsa.2021.0121215. "
   ]
  },
  {
   "cell_type": "markdown",
   "id": "54b27f8c-4d42-409a-9f4e-a3686cf34abd",
   "metadata": {},
   "source": [
    "“Machine learning-based spam detection using naïve Bayes classifier in comparison with logistic regression for improving accuracy” (2022) Journal of Pharmaceutical Negative Results, 13(SO4). Available at: https://doi.org/10.47750/pnr.2022.13.s04.061. "
   ]
  },
  {
   "cell_type": "markdown",
   "id": "1cbea75a-0a28-4e72-ab2c-5d4a3278f5e8",
   "metadata": {},
   "source": [
    "** Shobana, J. and Kanchana, D. (2021) “An efficient spam SMS analysis model based on multinomial naïve Bayes model using passive aggressive algorithm,” Journal of Physics: Conference Series, 2007(1), p. 012047. Available at: https://doi.org/10.1088/1742-6596/2007/1/012047. "
   ]
  },
  {
   "cell_type": "code",
   "execution_count": null,
   "id": "3855e792-11d5-445c-983b-7153ffcffe82",
   "metadata": {},
   "outputs": [],
   "source": []
  }
 ],
 "metadata": {
  "kernelspec": {
   "display_name": "Python 3 (ipykernel)",
   "language": "python",
   "name": "python3"
  },
  "language_info": {
   "codemirror_mode": {
    "name": "ipython",
    "version": 3
   },
   "file_extension": ".py",
   "mimetype": "text/x-python",
   "name": "python",
   "nbconvert_exporter": "python",
   "pygments_lexer": "ipython3",
   "version": "3.9.13"
  }
 },
 "nbformat": 4,
 "nbformat_minor": 5
}
